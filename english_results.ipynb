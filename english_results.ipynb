{
 "cells": [
  {
   "cell_type": "code",
   "execution_count": 16,
   "metadata": {},
   "outputs": [],
   "source": [
    "import pandas as pd\n",
    "import numpy as np\n",
    "import seaborn as sns\n",
    "import matplotlib.pyplot as plt"
   ]
  },
  {
   "cell_type": "code",
   "execution_count": 17,
   "metadata": {},
   "outputs": [],
   "source": [
    "champ_results_2021 = pd.read_csv('./data/Champ_results_2021.csv')\n",
    "champ_results_2020 = pd.read_csv('./data/Champ_results_2020.csv')\n",
    "champ_results_2019 = pd.read_csv('./data/Champ_results_2019.csv')\n",
    "champ_results_2018 = pd.read_csv('./data/Champ_results_2018.csv')\n",
    "champ_results_2017 = pd.read_csv('./data/Champ_results_2017.csv')\n",
    "\n",
    "pl_results_2021 = pd.read_csv('./data/pl_results2021.csv')\n",
    "pl_results_2020 = pd.read_csv('./data/pl_results2020.csv')\n",
    "pl_results_2019 = pd.read_csv('./data/pl_results2019.csv')\n",
    "pl_results_2018 = pd.read_csv('./data/pl_results2018.csv')\n",
    "pl_results_2017 = pd.read_csv('./data/pl_results2017.csv')"
   ]
  },
  {
   "cell_type": "markdown",
   "metadata": {},
   "source": [
    "All of the data used came from Sports Reference, or Football Reference"
   ]
  },
  {
   "cell_type": "code",
   "execution_count": 18,
   "metadata": {},
   "outputs": [],
   "source": [
    "champ_results_2021 = champ_results_2021.drop(['Score'],axis=1)"
   ]
  },
  {
   "cell_type": "code",
   "execution_count": 19,
   "metadata": {},
   "outputs": [],
   "source": [
    "champ_results_2020 = champ_results_2020.drop(['Score'],axis=1)"
   ]
  },
  {
   "cell_type": "markdown",
   "metadata": {},
   "source": [
    "I'd like to do a bit of analysis on if there still existed a home field advantage, even with no attendance"
   ]
  },
  {
   "cell_type": "markdown",
   "metadata": {},
   "source": [
    "# Home vs Away EFL Championship Results"
   ]
  },
  {
   "cell_type": "code",
   "execution_count": 20,
   "metadata": {},
   "outputs": [
    {
     "name": "stdout",
     "output_type": "stream",
     "text": [
      "There were 139 draws in the 20-21 Championship season, or 25.181159420289855 percent of games\n",
      "The away team won 186 games in the 20-21 Championship season, or 33.69565217391305 percent of games\n",
      "The home team won 227 games in the 20-21 Championship season, or 41.1231884057971 percent of games\n"
     ]
    }
   ],
   "source": [
    "draw = champ_results_2021[champ_results_2021.home_score == champ_results_2021.away_score]\n",
    "away_win = champ_results_2021[champ_results_2021.home_score < champ_results_2021.away_score]\n",
    "home_win = champ_results_2021[champ_results_2021.home_score > champ_results_2021.away_score]\n",
    "print(f'There were {len(draw)} draws in the 20-21 Championship season, or {(len(draw)/(len(champ_results_2021))*100)} percent of games')\n",
    "print(f'The away team won {len(away_win)} games in the 20-21 Championship season, or {(len(away_win)/(len(champ_results_2021)))*100} percent of games')\n",
    "print(f'The home team won {len(home_win)} games in the 20-21 Championship season, or {(len(home_win)/(len(champ_results_2021)))*100} percent of games')"
   ]
  },
  {
   "cell_type": "code",
   "execution_count": 21,
   "metadata": {},
   "outputs": [
    {
     "name": "stdout",
     "output_type": "stream",
     "text": [
      "There were 149 draws in the 19-20 Championship season, or 26.992753623188403 percent of games\n",
      "The away team won 173 games in the 19-20 Championship season, or 31.34057971014493 percent of games\n",
      "The home team won 230 games in the 19-20 Championship season, or 41.66666666666667 percent of games\n"
     ]
    }
   ],
   "source": [
    "draw = champ_results_2020[champ_results_2020.home_score == champ_results_2020.away_score]\n",
    "away_win = champ_results_2020[champ_results_2020.home_score < champ_results_2020.away_score]\n",
    "home_win = champ_results_2020[champ_results_2020.home_score > champ_results_2020.away_score]\n",
    "print(f'There were {len(draw)} draws in the 19-20 Championship season, or {(len(draw)/(len(champ_results_2020))*100)} percent of games')\n",
    "print(f'The away team won {len(away_win)} games in the 19-20 Championship season, or {(len(away_win)/(len(champ_results_2020)))*100} percent of games')\n",
    "print(f'The home team won {len(home_win)} games in the 19-20 Championship season, or {(len(home_win)/(len(champ_results_2020)))*100} percent of games')"
   ]
  },
  {
   "cell_type": "code",
   "execution_count": 22,
   "metadata": {},
   "outputs": [
    {
     "name": "stdout",
     "output_type": "stream",
     "text": [
      "There were 162 draws in the 18-19 Championship season, or 29.347826086956523 percent of games\n",
      "The away team won 150 games in the 18-19 Championship season, or 27.173913043478258 percent of games\n",
      "The home team won 240 games in the 18-19 Championship season, or 43.47826086956522 percent of games\n"
     ]
    }
   ],
   "source": [
    "draw = champ_results_2019[champ_results_2019.home_score == champ_results_2019.away_score]\n",
    "away_win = champ_results_2019[champ_results_2019.home_score < champ_results_2019.away_score]\n",
    "home_win = champ_results_2019[champ_results_2019.home_score > champ_results_2019.away_score]\n",
    "print(f'There were {len(draw)} draws in the 18-19 Championship season, or {(len(draw)/(len(champ_results_2019))*100)} percent of games')\n",
    "print(f'The away team won {len(away_win)} games in the 18-19 Championship season, or {(len(away_win)/(len(champ_results_2019)))*100} percent of games')\n",
    "print(f'The home team won {len(home_win)} games in the 18-19 Championship season, or {(len(home_win)/(len(champ_results_2019)))*100} percent of games')"
   ]
  },
  {
   "cell_type": "code",
   "execution_count": 23,
   "metadata": {},
   "outputs": [
    {
     "name": "stdout",
     "output_type": "stream",
     "text": [
      "There were 148 draws in the 17-18 Championship season, or 26.811594202898554 percent of games\n",
      "The away team won 166 games in the 17-18 Championship season, or 30.07246376811594 percent of games\n",
      "The home team won 238 games in the 17-18 Championship season, or 43.11594202898551 percent of games\n"
     ]
    }
   ],
   "source": [
    "draw = champ_results_2018[champ_results_2018.home_score == champ_results_2018.away_score]\n",
    "away_win = champ_results_2018[champ_results_2018.home_score < champ_results_2018.away_score]\n",
    "home_win = champ_results_2018[champ_results_2018.home_score > champ_results_2018.away_score]\n",
    "print(f'There were {len(draw)} draws in the 17-18 Championship season, or {(len(draw)/(len(champ_results_2018))*100)} percent of games')\n",
    "print(f'The away team won {len(away_win)} games in the 17-18 Championship season, or {(len(away_win)/(len(champ_results_2018)))*100} percent of games')\n",
    "print(f'The home team won {len(home_win)} games in the 17-18 Championship season, or {(len(home_win)/(len(champ_results_2018)))*100} percent of games')"
   ]
  },
  {
   "cell_type": "code",
   "execution_count": 24,
   "metadata": {},
   "outputs": [
    {
     "name": "stdout",
     "output_type": "stream",
     "text": [
      "There were 130 draws in the 16-17 Championship season, or 23.55072463768116 percent of games\n",
      "The away team won 160 games in the 16-17 Championship season, or 28.985507246376812 percent of games\n",
      "The home team won 262 games in the 16-17 Championship season, or 47.46376811594203 percent of games\n"
     ]
    }
   ],
   "source": [
    "draw = champ_results_2017[champ_results_2017.home_score == champ_results_2017.away_score]\n",
    "away_win = champ_results_2017[champ_results_2017.home_score < champ_results_2017.away_score]\n",
    "home_win = champ_results_2017[champ_results_2017.home_score > champ_results_2017.away_score]\n",
    "print(f'There were {len(draw)} draws in the 16-17 Championship season, or {(len(draw)/(len(champ_results_2017))*100)} percent of games')\n",
    "print(f'The away team won {len(away_win)} games in the 16-17 Championship season, or {(len(away_win)/(len(champ_results_2017)))*100} percent of games')\n",
    "print(f'The home team won {len(home_win)} games in the 16-17 Championship season, or {(len(home_win)/(len(champ_results_2017)))*100} percent of games')"
   ]
  },
  {
   "cell_type": "markdown",
   "metadata": {},
   "source": [
    "# English Premier League results"
   ]
  },
  {
   "cell_type": "code",
   "execution_count": 25,
   "metadata": {},
   "outputs": [
    {
     "name": "stdout",
     "output_type": "stream",
     "text": [
      "There were 83 draws in the 20-21 PL season, or 21.842105263157897 percent of games\n",
      "The away team won 150 games in the 20-21 PL season, or 39.473684210526315 percent of games\n",
      "The home team won 137 games in the 20-21 PL season, or 36.05263157894737 percent of games\n"
     ]
    }
   ],
   "source": [
    "draw = pl_results_2021[pl_results_2021.home_score == pl_results_2021.away_score]\n",
    "away_win = pl_results_2021[pl_results_2021.home_score < pl_results_2021.away_score]\n",
    "home_win = pl_results_2021[pl_results_2021.home_score > pl_results_2021.away_score]\n",
    "print(f'There were {len(draw)} draws in the 20-21 PL season, or {(len(draw)/(len(pl_results_2021))*100)} percent of games')\n",
    "print(f'The away team won {len(away_win)} games in the 20-21 PL season, or {(len(away_win)/(len(pl_results_2021)))*100} percent of games')\n",
    "print(f'The home team won {len(home_win)} games in the 20-21 PL season, or {(len(home_win)/(len(pl_results_2021)))*100} percent of games')\n",
    "\n",
    "#This needs to be updated to include final week"
   ]
  },
  {
   "cell_type": "code",
   "execution_count": 26,
   "metadata": {},
   "outputs": [
    {
     "name": "stdout",
     "output_type": "stream",
     "text": [
      "There were 92 draws in the 19-20 PL season, or 24.210526315789473 percent of games\n",
      "The away team won 116 games in the 19-20 PL season, or 30.526315789473685 percent of games\n",
      "The home team won 172 games in the 19-20 PL season, or 45.26315789473684 percent of games\n"
     ]
    }
   ],
   "source": [
    "draw = pl_results_2020[pl_results_2020.home_score == pl_results_2020.away_score]\n",
    "away_win = pl_results_2020[pl_results_2020.home_score < pl_results_2020.away_score]\n",
    "home_win = pl_results_2020[pl_results_2020.home_score > pl_results_2020.away_score]\n",
    "print(f'There were {len(draw)} draws in the 19-20 PL season, or {(len(draw)/(len(pl_results_2020))*100)} percent of games')\n",
    "print(f'The away team won {len(away_win)} games in the 19-20 PL season, or {(len(away_win)/(len(pl_results_2020)))*100} percent of games')\n",
    "print(f'The home team won {len(home_win)} games in the 19-20 PL season, or {(len(home_win)/(len(pl_results_2020)))*100} percent of games')"
   ]
  },
  {
   "cell_type": "code",
   "execution_count": 27,
   "metadata": {},
   "outputs": [
    {
     "name": "stdout",
     "output_type": "stream",
     "text": [
      "There were 71 draws in the 18-19 PL season, or 18.684210526315788 percent of games\n",
      "The away team won 128 games in the 18-19 PL season, or 33.68421052631579 percent of games\n",
      "The home team won 181 games in the 18-19 PL season, or 47.63157894736842 percent of games\n"
     ]
    }
   ],
   "source": [
    "draw = pl_results_2019[pl_results_2019.home_score == pl_results_2019.away_score]\n",
    "away_win = pl_results_2019[pl_results_2019.home_score < pl_results_2019.away_score]\n",
    "home_win = pl_results_2019[pl_results_2019.home_score > pl_results_2019.away_score]\n",
    "print(f'There were {len(draw)} draws in the 18-19 PL season, or {(len(draw)/(len(pl_results_2019))*100)} percent of games')\n",
    "print(f'The away team won {len(away_win)} games in the 18-19 PL season, or {(len(away_win)/(len(pl_results_2019)))*100} percent of games')\n",
    "print(f'The home team won {len(home_win)} games in the 18-19 PL season, or {(len(home_win)/(len(pl_results_2019)))*100} percent of games')"
   ]
  },
  {
   "cell_type": "code",
   "execution_count": 28,
   "metadata": {},
   "outputs": [
    {
     "name": "stdout",
     "output_type": "stream",
     "text": [
      "There were 99 draws in the 17-18 PL season, or 26.052631578947366 percent of games\n",
      "The away team won 108 games in the 17-18 PL season, or 28.421052631578945 percent of games\n",
      "The home team won 173 games in the 17-18 PL season, or 45.526315789473685 percent of games\n"
     ]
    }
   ],
   "source": [
    "draw = pl_results_2018[pl_results_2018.home_score == pl_results_2018.away_score]\n",
    "away_win = pl_results_2018[pl_results_2018.home_score < pl_results_2018.away_score]\n",
    "home_win = pl_results_2018[pl_results_2018.home_score > pl_results_2018.away_score]\n",
    "print(f'There were {len(draw)} draws in the 17-18 PL season, or {(len(draw)/(len(pl_results_2018))*100)} percent of games')\n",
    "print(f'The away team won {len(away_win)} games in the 17-18 PL season, or {(len(away_win)/(len(pl_results_2018)))*100} percent of games')\n",
    "print(f'The home team won {len(home_win)} games in the 17-18 PL season, or {(len(home_win)/(len(pl_results_2018)))*100} percent of games')"
   ]
  },
  {
   "cell_type": "code",
   "execution_count": 29,
   "metadata": {},
   "outputs": [
    {
     "name": "stdout",
     "output_type": "stream",
     "text": [
      "There were 84 draws in the 16-17 PL season, or 22.105263157894736 percent of games\n",
      "The away team won 109 games in the 16-17 PL season, or 28.68421052631579 percent of games\n",
      "The home team won 187 games in the 16-17 PL season, or 49.21052631578947 percent of games\n"
     ]
    }
   ],
   "source": [
    "draw = pl_results_2017[pl_results_2017.home_score == pl_results_2017.away_score]\n",
    "away_win = pl_results_2017[pl_results_2017.home_score < pl_results_2017.away_score]\n",
    "home_win = pl_results_2017[pl_results_2017.home_score > pl_results_2017.away_score]\n",
    "print(f'There were {len(draw)} draws in the 16-17 PL season, or {(len(draw)/(len(pl_results_2017))*100)} percent of games')\n",
    "print(f'The away team won {len(away_win)} games in the 16-17 PL season, or {(len(away_win)/(len(pl_results_2017)))*100} percent of games')\n",
    "print(f'The home team won {len(home_win)} games in the 16-17 PL season, or {(len(home_win)/(len(pl_results_2017)))*100} percent of games')"
   ]
  },
  {
   "cell_type": "code",
   "execution_count": null,
   "metadata": {},
   "outputs": [],
   "source": []
  },
  {
   "cell_type": "code",
   "execution_count": null,
   "metadata": {},
   "outputs": [],
   "source": [
    "\n"
   ]
  }
 ],
 "metadata": {
  "kernelspec": {
   "display_name": "Python 3",
   "language": "python",
   "name": "python3"
  },
  "language_info": {
   "codemirror_mode": {
    "name": "ipython",
    "version": 3
   },
   "file_extension": ".py",
   "mimetype": "text/x-python",
   "name": "python",
   "nbconvert_exporter": "python",
   "pygments_lexer": "ipython3",
   "version": "3.8.3"
  }
 },
 "nbformat": 4,
 "nbformat_minor": 4
}
