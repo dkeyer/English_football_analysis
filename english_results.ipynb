{
 "cells": [
  {
   "cell_type": "code",
   "execution_count": 69,
   "metadata": {},
   "outputs": [],
   "source": [
    "import pandas as pd\n",
    "import numpy as np\n",
    "import seaborn as sns\n",
    "import matplotlib.pyplot as plt"
   ]
  },
  {
   "cell_type": "code",
   "execution_count": 70,
   "metadata": {},
   "outputs": [],
   "source": [
    "champ_results_2021 = pd.read_csv('./data/Champ_results_2021.csv')\n",
    "champ_results_2020 = pd.read_csv('./data/Champ_results_2020.csv')\n",
    "champ_results_2019 = pd.read_csv('./data/Champ_results_2019.csv')\n",
    "champ_results_2018 = pd.read_csv('./data/Champ_results_2018.csv')\n",
    "champ_results_2017 = pd.read_csv('./data/Champ_results_2017.csv')\n",
    "\n",
    "pl_results_2021 = pd.read_csv('./data/pl_results2021.csv')\n",
    "pl_results_2020 = pd.read_csv('./data/pl_results2020.csv')\n",
    "pl_results_2019 = pd.read_csv('./data/pl_results2019.csv')\n",
    "pl_results_2018 = pd.read_csv('./data/pl_results2018.csv')\n",
    "pl_results_2017 = pd.read_csv('./data/pl_results2017.csv')"
   ]
  },
  {
   "cell_type": "markdown",
   "metadata": {},
   "source": [
    "All of the data used came from Sports Reference, or Football Reference"
   ]
  },
  {
   "cell_type": "code",
   "execution_count": 71,
   "metadata": {},
   "outputs": [],
   "source": [
    "champ_results_2021 = champ_results_2021.drop(['Score'],axis=1)"
   ]
  },
  {
   "cell_type": "code",
   "execution_count": 72,
   "metadata": {},
   "outputs": [],
   "source": [
    "champ_results_2020 = champ_results_2020.drop(['Score'],axis=1)"
   ]
  },
  {
   "cell_type": "markdown",
   "metadata": {},
   "source": [
    "I'd like to do a bit of analysis on if there still existed a home field advantage, even with no attendance"
   ]
  },
  {
   "cell_type": "markdown",
   "metadata": {},
   "source": [
    "# Home vs Away EFL Championship Results"
   ]
  },
  {
   "cell_type": "code",
   "execution_count": 73,
   "metadata": {},
   "outputs": [
    {
     "name": "stdout",
     "output_type": "stream",
     "text": [
      "There were 139 draws in the 20-21 Championship season, or 25.181159420289855 percent of games\n",
      "The away team won 186 games in the 20-21 Championship season, or 33.69565217391305 percent of games\n",
      "The home team won 227 games in the 20-21 Championship season, or 41.1231884057971 percent of games\n"
     ]
    }
   ],
   "source": [
    "draw = champ_results_2021[champ_results_2021.home_score == champ_results_2021.away_score]\n",
    "away_win = champ_results_2021[champ_results_2021.home_score < champ_results_2021.away_score]\n",
    "home_win = champ_results_2021[champ_results_2021.home_score > champ_results_2021.away_score]\n",
    "print(f'There were {len(draw)} draws in the 20-21 Championship season, or {(len(draw)/(len(champ_results_2021))*100)} percent of games')\n",
    "print(f'The away team won {len(away_win)} games in the 20-21 Championship season, or {(len(away_win)/(len(champ_results_2021)))*100} percent of games')\n",
    "print(f'The home team won {len(home_win)} games in the 20-21 Championship season, or {(len(home_win)/(len(champ_results_2021)))*100} percent of games')"
   ]
  },
  {
   "cell_type": "code",
   "execution_count": 74,
   "metadata": {},
   "outputs": [
    {
     "name": "stdout",
     "output_type": "stream",
     "text": [
      "There were 149 draws in the 19-20 Championship season, or 26.992753623188403 percent of games\n",
      "The away team won 173 games in the 19-20 Championship season, or 31.34057971014493 percent of games\n",
      "The home team won 230 games in the 19-20 Championship season, or 41.66666666666667 percent of games\n"
     ]
    }
   ],
   "source": [
    "draw = champ_results_2020[champ_results_2020.home_score == champ_results_2020.away_score]\n",
    "away_win = champ_results_2020[champ_results_2020.home_score < champ_results_2020.away_score]\n",
    "home_win = champ_results_2020[champ_results_2020.home_score > champ_results_2020.away_score]\n",
    "print(f'There were {len(draw)} draws in the 19-20 Championship season, or {(len(draw)/(len(champ_results_2020))*100)} percent of games')\n",
    "print(f'The away team won {len(away_win)} games in the 19-20 Championship season, or {(len(away_win)/(len(champ_results_2020)))*100} percent of games')\n",
    "print(f'The home team won {len(home_win)} games in the 19-20 Championship season, or {(len(home_win)/(len(champ_results_2020)))*100} percent of games')"
   ]
  },
  {
   "cell_type": "code",
   "execution_count": 75,
   "metadata": {},
   "outputs": [
    {
     "name": "stdout",
     "output_type": "stream",
     "text": [
      "There were 162 draws in the 18-19 Championship season, or 29.347826086956523 percent of games\n",
      "The away team won 150 games in the 18-19 Championship season, or 27.173913043478258 percent of games\n",
      "The home team won 240 games in the 18-19 Championship season, or 43.47826086956522 percent of games\n"
     ]
    }
   ],
   "source": [
    "draw = champ_results_2019[champ_results_2019.home_score == champ_results_2019.away_score]\n",
    "away_win = champ_results_2019[champ_results_2019.home_score < champ_results_2019.away_score]\n",
    "home_win = champ_results_2019[champ_results_2019.home_score > champ_results_2019.away_score]\n",
    "print(f'There were {len(draw)} draws in the 18-19 Championship season, or {(len(draw)/(len(champ_results_2019))*100)} percent of games')\n",
    "print(f'The away team won {len(away_win)} games in the 18-19 Championship season, or {(len(away_win)/(len(champ_results_2019)))*100} percent of games')\n",
    "print(f'The home team won {len(home_win)} games in the 18-19 Championship season, or {(len(home_win)/(len(champ_results_2019)))*100} percent of games')"
   ]
  },
  {
   "cell_type": "code",
   "execution_count": 76,
   "metadata": {},
   "outputs": [
    {
     "name": "stdout",
     "output_type": "stream",
     "text": [
      "There were 148 draws in the 17-18 Championship season, or 26.811594202898554 percent of games\n",
      "The away team won 166 games in the 17-18 Championship season, or 30.07246376811594 percent of games\n",
      "The home team won 238 games in the 17-18 Championship season, or 43.11594202898551 percent of games\n"
     ]
    }
   ],
   "source": [
    "draw = champ_results_2018[champ_results_2018.home_score == champ_results_2018.away_score]\n",
    "away_win = champ_results_2018[champ_results_2018.home_score < champ_results_2018.away_score]\n",
    "home_win = champ_results_2018[champ_results_2018.home_score > champ_results_2018.away_score]\n",
    "print(f'There were {len(draw)} draws in the 17-18 Championship season, or {(len(draw)/(len(champ_results_2018))*100)} percent of games')\n",
    "print(f'The away team won {len(away_win)} games in the 17-18 Championship season, or {(len(away_win)/(len(champ_results_2018)))*100} percent of games')\n",
    "print(f'The home team won {len(home_win)} games in the 17-18 Championship season, or {(len(home_win)/(len(champ_results_2018)))*100} percent of games')"
   ]
  },
  {
   "cell_type": "code",
   "execution_count": 77,
   "metadata": {},
   "outputs": [
    {
     "name": "stdout",
     "output_type": "stream",
     "text": [
      "There were 130 draws in the 16-17 Championship season, or 23.55072463768116 percent of games\n",
      "The away team won 160 games in the 16-17 Championship season, or 28.985507246376812 percent of games\n",
      "The home team won 262 games in the 16-17 Championship season, or 47.46376811594203 percent of games\n"
     ]
    }
   ],
   "source": [
    "draw = champ_results_2017[champ_results_2017.home_score == champ_results_2017.away_score]\n",
    "away_win = champ_results_2017[champ_results_2017.home_score < champ_results_2017.away_score]\n",
    "home_win = champ_results_2017[champ_results_2017.home_score > champ_results_2017.away_score]\n",
    "print(f'There were {len(draw)} draws in the 16-17 Championship season, or {(len(draw)/(len(champ_results_2017))*100)} percent of games')\n",
    "print(f'The away team won {len(away_win)} games in the 16-17 Championship season, or {(len(away_win)/(len(champ_results_2017)))*100} percent of games')\n",
    "print(f'The home team won {len(home_win)} games in the 16-17 Championship season, or {(len(home_win)/(len(champ_results_2017)))*100} percent of games')"
   ]
  },
  {
   "cell_type": "markdown",
   "metadata": {},
   "source": [
    "# English Premier League results"
   ]
  },
  {
   "cell_type": "code",
   "execution_count": 78,
   "metadata": {},
   "outputs": [
    {
     "name": "stdout",
     "output_type": "stream",
     "text": [
      "There were 83 draws in the 20-21 PL season, or 21.842105263157897 percent of games\n",
      "The away team won 150 games in the 20-21 PL season, or 39.473684210526315 percent of games\n",
      "The home team won 137 games in the 20-21 PL season, or 36.05263157894737 percent of games\n"
     ]
    }
   ],
   "source": [
    "draw = pl_results_2021[pl_results_2021.home_score == pl_results_2021.away_score]\n",
    "away_win = pl_results_2021[pl_results_2021.home_score < pl_results_2021.away_score]\n",
    "home_win = pl_results_2021[pl_results_2021.home_score > pl_results_2021.away_score]\n",
    "print(f'There were {len(draw)} draws in the 20-21 PL season, or {(len(draw)/(len(pl_results_2021))*100)} percent of games')\n",
    "print(f'The away team won {len(away_win)} games in the 20-21 PL season, or {(len(away_win)/(len(pl_results_2021)))*100} percent of games')\n",
    "print(f'The home team won {len(home_win)} games in the 20-21 PL season, or {(len(home_win)/(len(pl_results_2021)))*100} percent of games')\n",
    "\n",
    "#This needs to be updated to include final week"
   ]
  },
  {
   "cell_type": "code",
   "execution_count": 79,
   "metadata": {},
   "outputs": [
    {
     "name": "stdout",
     "output_type": "stream",
     "text": [
      "There were 92 draws in the 19-20 PL season, or 24.210526315789473 percent of games\n",
      "The away team won 116 games in the 19-20 PL season, or 30.526315789473685 percent of games\n",
      "The home team won 172 games in the 19-20 PL season, or 45.26315789473684 percent of games\n"
     ]
    }
   ],
   "source": [
    "draw = pl_results_2020[pl_results_2020.home_score == pl_results_2020.away_score]\n",
    "away_win = pl_results_2020[pl_results_2020.home_score < pl_results_2020.away_score]\n",
    "home_win = pl_results_2020[pl_results_2020.home_score > pl_results_2020.away_score]\n",
    "print(f'There were {len(draw)} draws in the 19-20 PL season, or {(len(draw)/(len(pl_results_2020))*100)} percent of games')\n",
    "print(f'The away team won {len(away_win)} games in the 19-20 PL season, or {(len(away_win)/(len(pl_results_2020)))*100} percent of games')\n",
    "print(f'The home team won {len(home_win)} games in the 19-20 PL season, or {(len(home_win)/(len(pl_results_2020)))*100} percent of games')"
   ]
  },
  {
   "cell_type": "code",
   "execution_count": 80,
   "metadata": {},
   "outputs": [
    {
     "name": "stdout",
     "output_type": "stream",
     "text": [
      "There were 71 draws in the 18-19 PL season, or 18.684210526315788 percent of games\n",
      "The away team won 128 games in the 18-19 PL season, or 33.68421052631579 percent of games\n",
      "The home team won 181 games in the 18-19 PL season, or 47.63157894736842 percent of games\n"
     ]
    }
   ],
   "source": [
    "draw = pl_results_2019[pl_results_2019.home_score == pl_results_2019.away_score]\n",
    "away_win = pl_results_2019[pl_results_2019.home_score < pl_results_2019.away_score]\n",
    "home_win = pl_results_2019[pl_results_2019.home_score > pl_results_2019.away_score]\n",
    "print(f'There were {len(draw)} draws in the 18-19 PL season, or {(len(draw)/(len(pl_results_2019))*100)} percent of games')\n",
    "print(f'The away team won {len(away_win)} games in the 18-19 PL season, or {(len(away_win)/(len(pl_results_2019)))*100} percent of games')\n",
    "print(f'The home team won {len(home_win)} games in the 18-19 PL season, or {(len(home_win)/(len(pl_results_2019)))*100} percent of games')"
   ]
  },
  {
   "cell_type": "code",
   "execution_count": 81,
   "metadata": {},
   "outputs": [
    {
     "name": "stdout",
     "output_type": "stream",
     "text": [
      "There were 99 draws in the 17-18 PL season, or 26.052631578947366 percent of games\n",
      "The away team won 108 games in the 17-18 PL season, or 28.421052631578945 percent of games\n",
      "The home team won 173 games in the 17-18 PL season, or 45.526315789473685 percent of games\n"
     ]
    }
   ],
   "source": [
    "draw = pl_results_2018[pl_results_2018.home_score == pl_results_2018.away_score]\n",
    "away_win = pl_results_2018[pl_results_2018.home_score < pl_results_2018.away_score]\n",
    "home_win = pl_results_2018[pl_results_2018.home_score > pl_results_2018.away_score]\n",
    "print(f'There were {len(draw)} draws in the 17-18 PL season, or {(len(draw)/(len(pl_results_2018))*100)} percent of games')\n",
    "print(f'The away team won {len(away_win)} games in the 17-18 PL season, or {(len(away_win)/(len(pl_results_2018)))*100} percent of games')\n",
    "print(f'The home team won {len(home_win)} games in the 17-18 PL season, or {(len(home_win)/(len(pl_results_2018)))*100} percent of games')"
   ]
  },
  {
   "cell_type": "code",
   "execution_count": 82,
   "metadata": {},
   "outputs": [
    {
     "name": "stdout",
     "output_type": "stream",
     "text": [
      "There were 84 draws in the 16-17 PL season, or 22.105263157894736 percent of games\n",
      "The away team won 109 games in the 16-17 PL season, or 28.68421052631579 percent of games\n",
      "The home team won 187 games in the 16-17 PL season, or 49.21052631578947 percent of games\n"
     ]
    }
   ],
   "source": [
    "draw = pl_results_2017[pl_results_2017.home_score == pl_results_2017.away_score]\n",
    "away_win = pl_results_2017[pl_results_2017.home_score < pl_results_2017.away_score]\n",
    "home_win = pl_results_2017[pl_results_2017.home_score > pl_results_2017.away_score]\n",
    "print(f'There were {len(draw)} draws in the 16-17 PL season, or {(len(draw)/(len(pl_results_2017))*100)} percent of games')\n",
    "print(f'The away team won {len(away_win)} games in the 16-17 PL season, or {(len(away_win)/(len(pl_results_2017)))*100} percent of games')\n",
    "print(f'The home team won {len(home_win)} games in the 16-17 PL season, or {(len(home_win)/(len(pl_results_2017)))*100} percent of games')"
   ]
  },
  {
   "cell_type": "code",
   "execution_count": 91,
   "metadata": {},
   "outputs": [
    {
     "data": {
      "text/plain": [
       "Index(['Wk', 'Day', 'Date', 'Time', 'Home', 'Score', 'Away', 'home_score',\n",
       "       'away_score', 'Attendance', 'Venue', 'Referee', 'Match Report',\n",
       "       'Notes'],\n",
       "      dtype='object')"
      ]
     },
     "execution_count": 91,
     "metadata": {},
     "output_type": "execute_result"
    }
   ],
   "source": [
    "pl_results_2017.columns"
   ]
  },
  {
   "cell_type": "markdown",
   "metadata": {},
   "source": [
    "# How many goals are we seeing in these games?"
   ]
  },
  {
   "cell_type": "markdown",
   "metadata": {},
   "source": []
  },
  {
   "cell_type": "code",
   "execution_count": 89,
   "metadata": {},
   "outputs": [
    {
     "data": {
      "text/plain": [
       "1064"
      ]
     },
     "execution_count": 89,
     "metadata": {},
     "output_type": "execute_result"
    }
   ],
   "source": [
    "total_goals = pl_results_2017['away_score'].sum() + pl_results_2017['home_score'].sum()\n",
    "total_xg"
   ]
  },
  {
   "cell_type": "code",
   "execution_count": 92,
   "metadata": {},
   "outputs": [
    {
     "ename": "ValueError",
     "evalue": "The truth value of a Series is ambiguous. Use a.empty, a.bool(), a.item(), a.any() or a.all().",
     "output_type": "error",
     "traceback": [
      "\u001b[1;31m---------------------------------------------------------------------------\u001b[0m",
      "\u001b[1;31mValueError\u001b[0m                                Traceback (most recent call last)",
      "\u001b[1;32m<ipython-input-92-3470c8dd900c>\u001b[0m in \u001b[0;36m<module>\u001b[1;34m\u001b[0m\n\u001b[0;32m      2\u001b[0m \u001b[0munder\u001b[0m \u001b[1;33m=\u001b[0m \u001b[1;36m0\u001b[0m\u001b[1;33m\u001b[0m\u001b[1;33m\u001b[0m\u001b[0m\n\u001b[0;32m      3\u001b[0m \u001b[1;32mfor\u001b[0m \u001b[0mi\u001b[0m \u001b[1;32min\u001b[0m \u001b[0mpl_results_2017\u001b[0m\u001b[1;33m:\u001b[0m\u001b[1;33m\u001b[0m\u001b[1;33m\u001b[0m\u001b[0m\n\u001b[1;32m----> 4\u001b[1;33m     \u001b[1;32mif\u001b[0m \u001b[0mpl_results_2017\u001b[0m\u001b[1;33m[\u001b[0m\u001b[1;34m'home_score'\u001b[0m\u001b[1;33m]\u001b[0m \u001b[1;33m+\u001b[0m \u001b[0mpl_results_2017\u001b[0m\u001b[1;33m[\u001b[0m\u001b[1;34m'away_score'\u001b[0m\u001b[1;33m]\u001b[0m \u001b[1;33m>\u001b[0m \u001b[1;36m2.5\u001b[0m\u001b[1;33m:\u001b[0m\u001b[1;33m\u001b[0m\u001b[1;33m\u001b[0m\u001b[0m\n\u001b[0m\u001b[0;32m      5\u001b[0m         \u001b[0mover\u001b[0m \u001b[1;33m=\u001b[0m \u001b[0mover\u001b[0m \u001b[1;33m+\u001b[0m \u001b[1;36m1\u001b[0m\u001b[1;33m\u001b[0m\u001b[1;33m\u001b[0m\u001b[0m\n\u001b[0;32m      6\u001b[0m     \u001b[1;32melse\u001b[0m\u001b[1;33m:\u001b[0m\u001b[1;33m\u001b[0m\u001b[1;33m\u001b[0m\u001b[0m\n",
      "\u001b[1;32mC:\\ProgramData\\Anaconda3\\lib\\site-packages\\pandas\\core\\generic.py\u001b[0m in \u001b[0;36m__nonzero__\u001b[1;34m(self)\u001b[0m\n\u001b[0;32m   1476\u001b[0m \u001b[1;33m\u001b[0m\u001b[0m\n\u001b[0;32m   1477\u001b[0m     \u001b[1;32mdef\u001b[0m \u001b[0m__nonzero__\u001b[0m\u001b[1;33m(\u001b[0m\u001b[0mself\u001b[0m\u001b[1;33m)\u001b[0m\u001b[1;33m:\u001b[0m\u001b[1;33m\u001b[0m\u001b[1;33m\u001b[0m\u001b[0m\n\u001b[1;32m-> 1478\u001b[1;33m         raise ValueError(\n\u001b[0m\u001b[0;32m   1479\u001b[0m             \u001b[1;34mf\"The truth value of a {type(self).__name__} is ambiguous. \"\u001b[0m\u001b[1;33m\u001b[0m\u001b[1;33m\u001b[0m\u001b[0m\n\u001b[0;32m   1480\u001b[0m             \u001b[1;34m\"Use a.empty, a.bool(), a.item(), a.any() or a.all().\"\u001b[0m\u001b[1;33m\u001b[0m\u001b[1;33m\u001b[0m\u001b[0m\n",
      "\u001b[1;31mValueError\u001b[0m: The truth value of a Series is ambiguous. Use a.empty, a.bool(), a.item(), a.any() or a.all()."
     ]
    }
   ],
   "source": [
    "over = 0 \n",
    "under = 0\n",
    "for i in pl_results_2017:\n",
    "    if pl_results_2017['home_score'] + pl_results_2017['away_score'] > 2.5:\n",
    "        over = over + 1\n",
    "    else:\n",
    "        under = under + 1\n",
    "print(over)\n",
    "print(under)"
   ]
  },
  {
   "cell_type": "code",
   "execution_count": null,
   "metadata": {},
   "outputs": [],
   "source": []
  },
  {
   "cell_type": "code",
   "execution_count": null,
   "metadata": {},
   "outputs": [],
   "source": []
  },
  {
   "cell_type": "code",
   "execution_count": null,
   "metadata": {},
   "outputs": [],
   "source": []
  },
  {
   "cell_type": "code",
   "execution_count": null,
   "metadata": {},
   "outputs": [],
   "source": []
  }
 ],
 "metadata": {
  "kernelspec": {
   "display_name": "Python 3",
   "language": "python",
   "name": "python3"
  },
  "language_info": {
   "codemirror_mode": {
    "name": "ipython",
    "version": 3
   },
   "file_extension": ".py",
   "mimetype": "text/x-python",
   "name": "python",
   "nbconvert_exporter": "python",
   "pygments_lexer": "ipython3",
   "version": "3.8.3"
  }
 },
 "nbformat": 4,
 "nbformat_minor": 4
}
